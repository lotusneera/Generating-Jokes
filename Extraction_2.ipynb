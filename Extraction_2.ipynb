{
  "nbformat": 4,
  "nbformat_minor": 0,
  "metadata": {
    "kernelspec": {
      "display_name": "Python 3",
      "language": "python",
      "name": "python3"
    },
    "language_info": {
      "codemirror_mode": {
        "name": "ipython",
        "version": 3
      },
      "file_extension": ".py",
      "mimetype": "text/x-python",
      "name": "python",
      "nbconvert_exporter": "python",
      "pygments_lexer": "ipython3",
      "version": "3.7.3"
    },
    "colab": {
      "name": "Template2_modifier.ipynb",
      "provenance": [],
      "include_colab_link": true
    }
  },
  "cells": [
    {
      "cell_type": "markdown",
      "metadata": {
        "id": "view-in-github",
        "colab_type": "text"
      },
      "source": [
        "<a href=\"https://colab.research.google.com/github/lotusneera/Generating-Jokes/blob/master/Extraction_2.ipynb\" target=\"_parent\"><img src=\"https://colab.research.google.com/assets/colab-badge.svg\" alt=\"Open In Colab\"/></a>"
      ]
    },
    {
      "cell_type": "code",
      "metadata": {
        "id": "wcmKzc79t7Gn",
        "colab_type": "code",
        "colab": {}
      },
      "source": [
        "import pandas as pd\n",
        "from tqdm import tqdm\n",
        "import nltk \n",
        "from nltk.corpus import wordnet as wn\n",
        "tqdm.pandas()\n",
        "#nltk.download('stopwords')\n",
        "from nltk.corpus import stopwords"
      ],
      "execution_count": 0,
      "outputs": []
    },
    {
      "cell_type": "code",
      "metadata": {
        "id": "7htRCjrzt7Gv",
        "colab_type": "code",
        "colab": {}
      },
      "source": [
        "df = pd.read_csv(r\"shortjokes.csv\")"
      ],
      "execution_count": 0,
      "outputs": []
    },
    {
      "cell_type": "code",
      "metadata": {
        "id": "Iu50nOaVt7Gx",
        "colab_type": "code",
        "colab": {}
      },
      "source": [
        "df2 = pd.read_csv(r\"csvjson.csv\")"
      ],
      "execution_count": 0,
      "outputs": []
    },
    {
      "cell_type": "code",
      "metadata": {
        "id": "7d2vKOQyt7Gz",
        "colab_type": "code",
        "colab": {}
      },
      "source": [
        "df3 = pd.read_excel(r\"template2_jokes.xlsx\")"
      ],
      "execution_count": 0,
      "outputs": []
    },
    {
      "cell_type": "code",
      "metadata": {
        "id": "U9rLfO3lt7G1",
        "colab_type": "code",
        "colab": {}
      },
      "source": [
        "#extract all the these kinds of jokes\n",
        "\n",
        "import re\n",
        "def extract_temptwo_X(joke):\n",
        "    #print(joke)\n",
        "    list_show=[]\n",
        "    joke_1=str(joke)\n",
        "    joke_1 = joke_1.replace(\",\", \" %2c\")\n",
        "    # time being modify it later\n",
        "    joke_1 = joke_1.replace(\"'s\", \" is\")\n",
        "    #print(joke_1)\n",
        "    m = re.match(r'What is the difference between (.*) and (.*) ?  (.*)',joke_1)\n",
        "    if m :\n",
        "        print(joke)\n",
        "        list_show.append(joke)\n",
        "        return joke\n",
        "    else: \n",
        "        return \"NaN\""
      ],
      "execution_count": 0,
      "outputs": []
    },
    {
      "cell_type": "code",
      "metadata": {
        "id": "8eb2T1k2t7G3",
        "colab_type": "code",
        "colab": {}
      },
      "source": [
        "list_x=[]"
      ],
      "execution_count": 0,
      "outputs": []
    },
    {
      "cell_type": "code",
      "metadata": {
        "id": "aoe75T1rt7G5",
        "colab_type": "code",
        "outputId": "5f188018-c0b4-45a5-98fb-ae710c62552d",
        "colab": {}
      },
      "source": [
        "list_x=df[\"Joke\"].progress_apply(lambda each: extract_temptwo_X(each)).tolist() "
      ],
      "execution_count": 0,
      "outputs": [
        {
          "output_type": "stream",
          "text": [
            "\r  0%|          | 0/231657 [00:00<?, ?it/s]"
          ],
          "name": "stderr"
        },
        {
          "output_type": "stream",
          "text": [
            "What's the difference between a sigh a car and  a monkey? A sigh is oh dear. A car is too dear. A monkey is you  dear.\n",
            "What's the difference between your job and a dead prostitute? Your job still sucks! And it sucks *hard*. (   )\n"
          ],
          "name": "stdout"
        },
        {
          "output_type": "stream",
          "text": [
            "\r  7%|▋         | 16048/231657 [00:00<00:01, 154558.77it/s]"
          ],
          "name": "stderr"
        },
        {
          "output_type": "stream",
          "text": [
            "What's the difference between very large building and pigeon? just one 's'. One is skyscraper and the other one is skycraper.\n",
            "What's the difference between a Blues musician and a Jazz musician? A blues musician plays 3 chords to audiences of thousands.  A jazz musician plays thousands of chords to audiences of 3\n"
          ],
          "name": "stdout"
        },
        {
          "output_type": "stream",
          "text": [
            "\r 15%|█▌        | 35458/231657 [00:00<00:01, 164129.53it/s]"
          ],
          "name": "stderr"
        },
        {
          "output_type": "stream",
          "text": [
            "What's the difference between an angler and a  dunce? One baits his hooks while the other hates his books.\n"
          ],
          "name": "stdout"
        },
        {
          "output_type": "stream",
          "text": [
            " 37%|███▋      | 85355/231657 [00:00<00:00, 197519.68it/s]"
          ],
          "name": "stderr"
        },
        {
          "output_type": "stream",
          "text": [
            "What's the difference between a hunter and a  fisherman? A hunter lies in wait. A fisherman waits and lies.\n"
          ],
          "name": "stdout"
        },
        {
          "output_type": "stream",
          "text": [
            "\r 49%|████▊     | 112473/231657 [00:00<00:00, 213347.86it/s]"
          ],
          "name": "stderr"
        },
        {
          "output_type": "stream",
          "text": [
            "What's the difference between a homeless and a  pizza?  A pizza can feed a family of four.\n"
          ],
          "name": "stdout"
        },
        {
          "output_type": "stream",
          "text": [
            "\r 62%|██████▏   | 143059/231657 [00:00<00:00, 232585.81it/s]"
          ],
          "name": "stderr"
        },
        {
          "output_type": "stream",
          "text": [
            "What's the difference between a feminist and a gun? The gun only has one trigger!   -Clorox Bleach\n"
          ],
          "name": "stdout"
        },
        {
          "output_type": "stream",
          "text": [
            "\r 73%|███████▎  | 168862/231657 [00:00<00:00, 237126.04it/s]"
          ],
          "name": "stderr"
        },
        {
          "output_type": "stream",
          "text": [
            "What's the difference between a rooster and a  hooker? a rooster says cocka-doodle-doo a hooker says any cock will do.\n"
          ],
          "name": "stdout"
        },
        {
          "output_type": "stream",
          "text": [
            "\r 86%|████████▌ | 199651/231657 [00:00<00:00, 252268.64it/s]"
          ],
          "name": "stderr"
        },
        {
          "output_type": "stream",
          "text": [
            "What's the difference between a dick and a joke? You can't take a joke (    )\n"
          ],
          "name": "stdout"
        },
        {
          "output_type": "stream",
          "text": [
            "\r 97%|█████████▋| 224946/231657 [00:00<00:00, 207812.73it/s]"
          ],
          "name": "stderr"
        },
        {
          "output_type": "stream",
          "text": [
            "What's the difference between a dirty bus stop and a lobster with breast implants? One's a crusty bus station , and the other's a busty crustacean!\n"
          ],
          "name": "stdout"
        },
        {
          "output_type": "stream",
          "text": [
            "100%|██████████| 231657/231657 [00:01<00:00, 218622.24it/s]\n"
          ],
          "name": "stderr"
        }
      ]
    },
    {
      "cell_type": "code",
      "metadata": {
        "id": "oijzjCx0t7G8",
        "colab_type": "code",
        "outputId": "7c387262-6bca-4362-ee8f-48f6944bd8ed",
        "colab": {}
      },
      "source": [
        "list_x1=df2[\"body\"].progress_apply(lambda each: extract_temptwo_X(each)).tolist()"
      ],
      "execution_count": 0,
      "outputs": [
        {
          "output_type": "stream",
          "text": [
            "\r  0%|          | 0/10019 [00:00<?, ?it/s]"
          ],
          "name": "stderr"
        },
        {
          "output_type": "stream",
          "text": [
            "What's the difference between a prostitute, your mistress and your wife?  \n",
            "\n",
            "The prostitute says, \"Are you done yet?\"  \n",
            "\n",
            "Your mistress says, \"You're not done yet!\" \n",
            "\n",
            "And your wife says, \"Beige, I think we ought to paint the ceiling beige.\"\n",
            "What's the difference between a \"fox\" and a \"dog?\"  About 6 drinks.\n"
          ],
          "name": "stdout"
        },
        {
          "output_type": "stream",
          "text": [
            "100%|██████████| 10019/10019 [00:00<00:00, 107592.79it/s]\n"
          ],
          "name": "stderr"
        }
      ]
    },
    {
      "cell_type": "code",
      "metadata": {
        "id": "edlfgfAkt7G9",
        "colab_type": "code",
        "colab": {}
      },
      "source": [
        "list_x2=df3[\"Jokes\"].tolist()"
      ],
      "execution_count": 0,
      "outputs": []
    },
    {
      "cell_type": "code",
      "metadata": {
        "id": "chkYOmxat7G_",
        "colab_type": "code",
        "colab": {}
      },
      "source": [
        "temp2_jokes =[]"
      ],
      "execution_count": 0,
      "outputs": []
    },
    {
      "cell_type": "code",
      "metadata": {
        "id": "iIl5N4aKt7HB",
        "colab_type": "code",
        "colab": {}
      },
      "source": [
        "for joke in list_x:\n",
        "    if joke != \"NaN\":\n",
        "        temp2_jokes.append(joke)\n",
        "    \n",
        "        "
      ],
      "execution_count": 0,
      "outputs": []
    },
    {
      "cell_type": "code",
      "metadata": {
        "id": "bl0vrh-It7HD",
        "colab_type": "code",
        "colab": {}
      },
      "source": [
        "for joke in list_x1:\n",
        "    if joke != \"NaN\":\n",
        "        temp2_jokes.append(joke)\n",
        "    "
      ],
      "execution_count": 0,
      "outputs": []
    },
    {
      "cell_type": "code",
      "metadata": {
        "id": "n7wZlDsxt7HF",
        "colab_type": "code",
        "colab": {}
      },
      "source": [
        "for joke in list_x2:\n",
        "    if joke != \"NaN\":\n",
        "        temp2_jokes.append(joke)\n",
        "    "
      ],
      "execution_count": 0,
      "outputs": []
    },
    {
      "cell_type": "code",
      "metadata": {
        "id": "Dy0NFKoat7HG",
        "colab_type": "code",
        "outputId": "b6a9d330-b29e-45cb-d36f-f3833be7eed4",
        "colab": {}
      },
      "source": [
        "len(temp2_jokes)\n"
      ],
      "execution_count": 0,
      "outputs": [
        {
          "output_type": "execute_result",
          "data": {
            "text/plain": [
              "24"
            ]
          },
          "metadata": {
            "tags": []
          },
          "execution_count": 14
        }
      ]
    },
    {
      "cell_type": "code",
      "metadata": {
        "id": "1HrfGt2at7HI",
        "colab_type": "code",
        "outputId": "f9899d0f-ef75-48da-b258-97874c2df78f",
        "colab": {}
      },
      "source": [
        "temp2_jokes"
      ],
      "execution_count": 0,
      "outputs": [
        {
          "output_type": "execute_result",
          "data": {
            "text/plain": [
              "[\"What's the difference between a sigh a car and  a monkey? A sigh is oh dear. A car is too dear. A monkey is you  dear.\",\n",
              " \"What's the difference between your job and a dead prostitute? Your job still sucks! And it sucks *hard*. (   )\",\n",
              " \"What's the difference between very large building and pigeon? just one 's'. One is skyscraper and the other one is skycraper.\",\n",
              " \"What's the difference between a Blues musician and a Jazz musician? A blues musician plays 3 chords to audiences of thousands.  A jazz musician plays thousands of chords to audiences of 3\",\n",
              " \"What's the difference between an angler and a  dunce? One baits his hooks while the other hates his books.\",\n",
              " \"What's the difference between a hunter and a  fisherman? A hunter lies in wait. A fisherman waits and lies.\",\n",
              " \"What's the difference between a homeless and a  pizza?  A pizza can feed a family of four.\",\n",
              " \"What's the difference between a feminist and a gun? The gun only has one trigger!   -Clorox Bleach\",\n",
              " \"What's the difference between a rooster and a  hooker? a rooster says cocka-doodle-doo a hooker says any cock will do.\",\n",
              " \"What's the difference between a dick and a joke? You can't take a joke (    )\",\n",
              " \"What's the difference between a dirty bus stop and a lobster with breast implants? One's a crusty bus station , and the other's a busty crustacean!\",\n",
              " 'What\\'s the difference between a prostitute, your mistress and your wife?  \\n\\nThe prostitute says, \"Are you done yet?\"  \\n\\nYour mistress says, \"You\\'re not done yet!\" \\n\\nAnd your wife says, \"Beige, I think we ought to paint the ceiling beige.\"',\n",
              " 'What\\'s the difference between a \"fox\" and a \"dog?\"  About 6 drinks.',\n",
              " \"What's the difference between female at the ages of 8, 18, 28, 38, 48 and 58? 08 - You take her to bed and tell her a story. 18 - You tell her a story and take her to bed. 28 - You don't need to tell her any story and take her to bed. 38 - She tells you a story and takes you to bed. 48 - You tell her a story to avoid going to bed. 58 - You stay in bed all day to avoid her story.\",\n",
              " \"What's the difference between Elvis and Osama Bin Laden?Osama is a dead man!\",\n",
              " \"What's the difference between  Michael Jackson and a grocery bag? One is made of plastic and is a  potential risk to children. \\n The other carries groceries.\",\n",
              " \"What's the difference between a female lawyer and a pit bull?Lipstick.\",\n",
              " \"What's the difference between a lawyer getting hit by a car and a dog getting hit by a car?There's skid marks before the dog.\",\n",
              " \"What's the difference between a lawyer and a trampoline? You take off your shoes to jump on a trampoline!\",\n",
              " \"What's the difference between an aerobics instructor and a well-mannered professional torturer? The torturer would apologize first\",\n",
              " \"What's the difference between an aerobics instructor and a dentist?A dentist lets you sit down while he hurts you.\",\n",
              " \"What's the difference between an intelligent Spice Girl and a UFO? Don't know, I haven't seen either.\",\n",
              " \"What's the difference between a rooster and a blonde?A rooster says cock-a-doodle-do and a blonde says any-cockle-do!\",\n",
              " \"Q: What's the difference between a hooker & a lawyer? A hooker stops screwing you when you're dead!\"]"
            ]
          },
          "metadata": {
            "tags": []
          },
          "execution_count": 15
        }
      ]
    },
    {
      "cell_type": "code",
      "metadata": {
        "id": "YS7YHXLTt7HL",
        "colab_type": "code",
        "colab": {}
      },
      "source": [
        ""
      ],
      "execution_count": 0,
      "outputs": []
    }
  ]
}