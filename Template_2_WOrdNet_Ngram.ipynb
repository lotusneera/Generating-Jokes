{
  "nbformat": 4,
  "nbformat_minor": 0,
  "metadata": {
    "colab": {
      "name": "template_2_wordnet_ngram.ipynb",
      "provenance": [],
      "include_colab_link": true
    },
    "kernelspec": {
      "name": "python3",
      "display_name": "Python 3"
    }
  },
  "cells": [
    {
      "cell_type": "markdown",
      "metadata": {
        "id": "view-in-github",
        "colab_type": "text"
      },
      "source": [
        "<a href=\"https://colab.research.google.com/github/lotusneera/Generating-Jokes/blob/master/Template_2_WOrdNet_Ngram.ipynb\" target=\"_parent\"><img src=\"https://colab.research.google.com/assets/colab-badge.svg\" alt=\"Open In Colab\"/></a>"
      ]
    },
    {
      "cell_type": "code",
      "metadata": {
        "id": "0zgquuUm6MNd",
        "colab_type": "code",
        "outputId": "0366c2de-e309-4554-b7f4-a3b7717d979b",
        "colab": {
          "base_uri": "https://localhost:8080/",
          "height": 50
        }
      },
      "source": [
        "import pandas as pd\n",
        "import nltk \n",
        "nltk.download('wordnet')\n",
        "from nltk.corpus import wordnet as wn\n",
        "#nltk.download('stopwords')\n",
        "from nltk.corpus import stopwords"
      ],
      "execution_count": 0,
      "outputs": [
        {
          "output_type": "stream",
          "text": [
            "[nltk_data] Downloading package wordnet to /root/nltk_data...\n",
            "[nltk_data]   Unzipping corpora/wordnet.zip.\n"
          ],
          "name": "stdout"
        }
      ]
    },
    {
      "cell_type": "code",
      "metadata": {
        "id": "678nj9m1H9BL",
        "colab_type": "code",
        "outputId": "d2dbcbba-e0ec-4096-e965-8142f983989d",
        "colab": {
          "resources": {
            "http://localhost:8080/nbextensions/google.colab/files.js": {
              "data": "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",
              "ok": true,
              "headers": [
                [
                  "content-type",
                  "application/javascript"
                ]
              ],
              "status": 200,
              "status_text": ""
            }
          },
          "base_uri": "https://localhost:8080/",
          "height": 74
        }
      },
      "source": [
        "from google.colab import files\n",
        "uploaded = files.upload()"
      ],
      "execution_count": 0,
      "outputs": [
        {
          "output_type": "display_data",
          "data": {
            "text/html": [
              "\n",
              "     <input type=\"file\" id=\"files-1e694ebb-b9ee-4d85-a665-73e3fe124ec1\" name=\"files[]\" multiple disabled />\n",
              "     <output id=\"result-1e694ebb-b9ee-4d85-a665-73e3fe124ec1\">\n",
              "      Upload widget is only available when the cell has been executed in the\n",
              "      current browser session. Please rerun this cell to enable.\n",
              "      </output>\n",
              "      <script src=\"/nbextensions/google.colab/files.js\"></script> "
            ],
            "text/plain": [
              "<IPython.core.display.HTML object>"
            ]
          },
          "metadata": {
            "tags": []
          }
        },
        {
          "output_type": "stream",
          "text": [
            "Saving shortjokes.csv to shortjokes.csv\n"
          ],
          "name": "stdout"
        }
      ]
    },
    {
      "cell_type": "code",
      "metadata": {
        "id": "3XEv7ExLIGXd",
        "colab_type": "code",
        "colab": {}
      },
      "source": [
        "test_data = pd.read_csv('shortjokes.csv')\n"
      ],
      "execution_count": 0,
      "outputs": []
    },
    {
      "cell_type": "code",
      "metadata": {
        "id": "1238-GdsKDCh",
        "colab_type": "code",
        "outputId": "a1da1a1c-1e30-422e-e9f4-b654072ed811",
        "colab": {
          "resources": {
            "http://localhost:8080/nbextensions/google.colab/files.js": {
              "data": "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",
              "ok": true,
              "headers": [
                [
                  "content-type",
                  "application/javascript"
                ]
              ],
              "status": 200,
              "status_text": ""
            }
          },
          "base_uri": "https://localhost:8080/",
          "height": 74
        }
      },
      "source": [
        "from google.colab import files\n",
        "uploaded = files.upload()"
      ],
      "execution_count": 0,
      "outputs": [
        {
          "output_type": "display_data",
          "data": {
            "text/html": [
              "\n",
              "     <input type=\"file\" id=\"files-9a2ef2a5-5a95-42a5-acd3-da2318ee4091\" name=\"files[]\" multiple disabled />\n",
              "     <output id=\"result-9a2ef2a5-5a95-42a5-acd3-da2318ee4091\">\n",
              "      Upload widget is only available when the cell has been executed in the\n",
              "      current browser session. Please rerun this cell to enable.\n",
              "      </output>\n",
              "      <script src=\"/nbextensions/google.colab/files.js\"></script> "
            ],
            "text/plain": [
              "<IPython.core.display.HTML object>"
            ]
          },
          "metadata": {
            "tags": []
          }
        },
        {
          "output_type": "stream",
          "text": [
            "Saving Template_two_data.csv to Template_two_data.csv\n"
          ],
          "name": "stdout"
        }
      ]
    },
    {
      "cell_type": "code",
      "metadata": {
        "id": "ioiwf4pyKKoO",
        "colab_type": "code",
        "colab": {}
      },
      "source": [
        "temp_two = pd.read_csv('Template_two_data.csv')\n"
      ],
      "execution_count": 0,
      "outputs": []
    },
    {
      "cell_type": "code",
      "metadata": {
        "id": "gKxhslMbK9uX",
        "colab_type": "code",
        "outputId": "fbd3c3ad-b67f-499e-efce-5c6be11e44d9",
        "colab": {
          "base_uri": "https://localhost:8080/",
          "height": 1000
        }
      },
      "source": [
        "for i, j in temp_two.iterrows():\n",
        "    x = j.X\n",
        "    y = j.Y\n",
        "    z = j.Z\n",
        "    x = x.strip()\n",
        "    y = y.strip()\n",
        "    z = z.strip()\n",
        "\n",
        "    if len(x.split()) == 1 and  len(y.split()) == 1:\n",
        "      print(\"original joke\")\n",
        "      print(\"what is the difference between \" + x + \" and \" + y + \" nothing but \" + z)\n",
        "      synsx = wn.synsets(x)\n",
        "      synsy = wn.synsets(y) \n",
        "      print(\"modified joke\")      \n",
        "      for a in synsx:\n",
        "        if a.lemmas()[0].name().casefold() != x:\n",
        "          for b in synsy:\n",
        "              list_z = []\n",
        "              for each in z.split():\n",
        "                if each == x:\n",
        "                  temp =  a.lemmas()[0].name()    \n",
        "                elif each == y:\n",
        "                  temp = b.lemmas()[0].name()\n",
        "                else:\n",
        "                  temp = each\n",
        "                list_z.append(temp)\n",
        "              \n",
        "              joke = \"what is the difference between \" + a.lemmas()[0].name() + \" and \" +  b.lemmas()[0].name() + \" nothing but \" + ' ' .join(list_z)\n",
        "              print(joke)\n",
        "            \n",
        "\n",
        "  \n",
        "    \n",
        "\n"
      ],
      "execution_count": 0,
      "outputs": [
        {
          "output_type": "stream",
          "text": [
            "original joke\n",
            "what is the difference between angler and dunce nothing but One baits his hooks while the other hates his books.\n",
            "modified joke\n",
            "what is the difference between goosefish and dunce nothing but One baits his hooks while the other hates his books.\n",
            "original joke\n",
            "what is the difference between hunter and fisherman nothing but A hunter lies in wait. A fisherman waits and lies.\n",
            "modified joke\n",
            "what is the difference between Orion and fisherman nothing but A Orion lies in wait. A fisherman waits and lies.\n",
            "original joke\n",
            "what is the difference between homeless and pizza nothing but A pizza can feed a family of four.\n",
            "modified joke\n",
            "what is the difference between dispossessed and pizza nothing but A pizza can feed a family of four.\n",
            "original joke\n",
            "what is the difference between feminist and gun nothing but The gun only has one trigger!   -Clorox Bleach\n",
            "modified joke\n",
            "original joke\n",
            "what is the difference between rooster and hooker nothing but a rooster says cocka-doodle-doo a hooker says any cock will do\n",
            "modified joke\n",
            "what is the difference between cock and Hooker nothing but a cock says cocka-doodle-doo a Hooker says any cock will do\n",
            "what is the difference between cock and Hooker nothing but a cock says cocka-doodle-doo a Hooker says any cock will do\n",
            "what is the difference between cock and streetwalker nothing but a cock says cocka-doodle-doo a streetwalker says any cock will do\n",
            "what is the difference between cock and hooker nothing but a cock says cocka-doodle-doo a hooker says any cock will do\n",
            "what is the difference between cock and hooker nothing but a cock says cocka-doodle-doo a hooker says any cock will do\n",
            "original joke\n",
            "what is the difference between dick and joke nothing but You can't take a joke\n",
            "modified joke\n",
            "what is the difference between cock and joke nothing but You can't take a joke\n",
            "what is the difference between cock and jest nothing but You can't take a jest\n",
            "what is the difference between cock and antic nothing but You can't take a antic\n",
            "what is the difference between cock and joke nothing but You can't take a joke\n",
            "what is the difference between cock and joke nothing but You can't take a joke\n",
            "what is the difference between cock and joke nothing but You can't take a joke\n",
            "original joke\n",
            "what is the difference between fox and dog nothing but About 6 drinks.\n",
            "modified joke\n",
            "what is the difference between dodger and dog nothing but About 6 drinks.\n",
            "what is the difference between dodger and frump nothing but About 6 drinks.\n",
            "what is the difference between dodger and dog nothing but About 6 drinks.\n",
            "what is the difference between dodger and cad nothing but About 6 drinks.\n",
            "what is the difference between dodger and frank nothing but About 6 drinks.\n",
            "what is the difference between dodger and pawl nothing but About 6 drinks.\n",
            "what is the difference between dodger and andiron nothing but About 6 drinks.\n",
            "what is the difference between dodger and chase nothing but About 6 drinks.\n",
            "what is the difference between flim-flam and dog nothing but About 6 drinks.\n",
            "what is the difference between flim-flam and frump nothing but About 6 drinks.\n",
            "what is the difference between flim-flam and dog nothing but About 6 drinks.\n",
            "what is the difference between flim-flam and cad nothing but About 6 drinks.\n",
            "what is the difference between flim-flam and frank nothing but About 6 drinks.\n",
            "what is the difference between flim-flam and pawl nothing but About 6 drinks.\n",
            "what is the difference between flim-flam and andiron nothing but About 6 drinks.\n",
            "what is the difference between flim-flam and chase nothing but About 6 drinks.\n",
            "what is the difference between confuse and dog nothing but About 6 drinks.\n",
            "what is the difference between confuse and frump nothing but About 6 drinks.\n",
            "what is the difference between confuse and dog nothing but About 6 drinks.\n",
            "what is the difference between confuse and cad nothing but About 6 drinks.\n",
            "what is the difference between confuse and frank nothing but About 6 drinks.\n",
            "what is the difference between confuse and pawl nothing but About 6 drinks.\n",
            "what is the difference between confuse and andiron nothing but About 6 drinks.\n",
            "what is the difference between confuse and chase nothing but About 6 drinks.\n",
            "original joke\n",
            "what is the difference between rooster and blonde nothing but A rooster says cock-a-doodle-do and a blonde says any-cockle-do!\n",
            "modified joke\n",
            "what is the difference between cock and blond nothing but A cock says cock-a-doodle-do and a blond says any-cockle-do!\n",
            "what is the difference between cock and blond nothing but A cock says cock-a-doodle-do and a blond says any-cockle-do!\n",
            "what is the difference between cock and blond nothing but A cock says cock-a-doodle-do and a blond says any-cockle-do!\n",
            "original joke\n",
            "what is the difference between hooker and lawyer nothing but A hooker stops screwing you when you're dead!\n",
            "modified joke\n",
            "what is the difference between streetwalker and lawyer nothing but A streetwalker stops screwing you when you're dead!\n"
          ],
          "name": "stdout"
        }
      ]
    },
    {
      "cell_type": "code",
      "metadata": {
        "id": "XM1hFdR13lkr",
        "colab_type": "code",
        "outputId": "b37fcbe3-aec5-4bf7-d5d7-e0d32fa3ffa1",
        "colab": {
          "base_uri": "https://localhost:8080/",
          "height": 638
        }
      },
      "source": [
        "for i, j in temp_two.iterrows():\n",
        "    x = j.X\n",
        "    y = j.Y\n",
        "    z = j.Z\n",
        "    x = x.strip()\n",
        "    y = y.strip()\n",
        "    z = z.strip()\n",
        "\n",
        "    if len(x.split()) == 1 :\n",
        "      print(\"original joke\")\n",
        "      print(\"what is the difference between \" + x + \" and \" + y + \" nothing but \" + z)\n",
        "      synsx = wn.synsets(x)\n",
        "      print(\"modified joke\")      \n",
        "      for a in synsx:\n",
        "        if a.lemmas()[0].name().casefold() != x:\n",
        "            list_z = []\n",
        "            for each in z.split():\n",
        "              if each == x:\n",
        "                temp =  a.lemmas()[0].name()    \n",
        "              else:\n",
        "                temp = each\n",
        "              list_z.append(temp)\n",
        "            \n",
        "            joke = \"what is the difference between \" + a.lemmas()[0].name() + \" and \" + y + \" nothing but \" + ' ' .join(list_z)\n",
        "            print(joke)\n",
        "          \n"
      ],
      "execution_count": 0,
      "outputs": [
        {
          "output_type": "stream",
          "text": [
            "original joke\n",
            "what is the difference between angler and dunce nothing but One baits his hooks while the other hates his books.\n",
            "modified joke\n",
            "what is the difference between goosefish and dunce nothing but One baits his hooks while the other hates his books.\n",
            "original joke\n",
            "what is the difference between hunter and fisherman nothing but A hunter lies in wait. A fisherman waits and lies.\n",
            "modified joke\n",
            "what is the difference between Orion and fisherman nothing but A Orion lies in wait. A fisherman waits and lies.\n",
            "original joke\n",
            "what is the difference between homeless and pizza nothing but A pizza can feed a family of four.\n",
            "modified joke\n",
            "what is the difference between dispossessed and pizza nothing but A pizza can feed a family of four.\n",
            "original joke\n",
            "what is the difference between feminist and gun nothing but The gun only has one trigger!   -Clorox Bleach\n",
            "modified joke\n",
            "original joke\n",
            "what is the difference between rooster and hooker nothing but a rooster says cocka-doodle-doo a hooker says any cock will do\n",
            "modified joke\n",
            "what is the difference between cock and hooker nothing but a cock says cocka-doodle-doo a hooker says any cock will do\n",
            "original joke\n",
            "what is the difference between dick and joke nothing but You can't take a joke\n",
            "modified joke\n",
            "what is the difference between cock and joke nothing but You can't take a joke\n",
            "original joke\n",
            "what is the difference between fox and dog nothing but About 6 drinks.\n",
            "modified joke\n",
            "what is the difference between dodger and dog nothing but About 6 drinks.\n",
            "what is the difference between flim-flam and dog nothing but About 6 drinks.\n",
            "what is the difference between confuse and dog nothing but About 6 drinks.\n",
            "original joke\n",
            "what is the difference between rooster and blonde nothing but A rooster says cock-a-doodle-do and a blonde says any-cockle-do!\n",
            "modified joke\n",
            "what is the difference between cock and blonde nothing but A cock says cock-a-doodle-do and a blonde says any-cockle-do!\n",
            "original joke\n",
            "what is the difference between hooker and lawyer nothing but A hooker stops screwing you when you're dead!\n",
            "modified joke\n",
            "what is the difference between streetwalker and lawyer nothing but A streetwalker stops screwing you when you're dead!\n"
          ],
          "name": "stdout"
        }
      ]
    },
    {
      "cell_type": "code",
      "metadata": {
        "id": "YaOs5RKj4ImJ",
        "colab_type": "code",
        "outputId": "ebdcd97f-acde-477b-d206-2cac5ac18641",
        "colab": {
          "base_uri": "https://localhost:8080/",
          "height": 756
        }
      },
      "source": [
        "\n",
        "for i, j in temp_two.iterrows():\n",
        "    x = j.X\n",
        "    y = j.Y\n",
        "    z = j.Z\n",
        "    x = x.strip()\n",
        "    y = y.strip()\n",
        "    z = z.strip()\n",
        "\n",
        "    if len(x.split()) == 1 :\n",
        "      print(\"original joke\")\n",
        "      print(\"what is the difference between \" + x + \" and \" + y + \" nothing but \" + z)\n",
        "      synsy = wn.synsets(y)\n",
        "      print(\"modified joke\")      \n",
        "      for a in synsy:\n",
        "        if a.lemmas()[0].name().casefold() != y:\n",
        "            list_z = []\n",
        "            for each in z.split():\n",
        "              if each == y:\n",
        "                temp =  a.lemmas()[0].name()    \n",
        "              else:\n",
        "                temp = each\n",
        "              list_z.append(temp)\n",
        "            \n",
        "            joke = \"what is the difference between \" + x + \" and \" + a.lemmas()[0].name() + \" nothing but \" + ' ' .join(list_z)\n",
        "            print(joke)\n",
        "    "
      ],
      "execution_count": 0,
      "outputs": [
        {
          "output_type": "stream",
          "text": [
            "original joke\n",
            "what is the difference between angler and dunce nothing but One baits his hooks while the other hates his books.\n",
            "modified joke\n",
            "original joke\n",
            "what is the difference between hunter and fisherman nothing but A hunter lies in wait. A fisherman waits and lies.\n",
            "modified joke\n",
            "original joke\n",
            "what is the difference between homeless and pizza nothing but A pizza can feed a family of four.\n",
            "modified joke\n",
            "original joke\n",
            "what is the difference between feminist and gun nothing but The gun only has one trigger!   -Clorox Bleach\n",
            "modified joke\n",
            "what is the difference between feminist and artillery nothing but The artillery only has one trigger! -Clorox Bleach\n",
            "what is the difference between feminist and gunman nothing but The gunman only has one trigger! -Clorox Bleach\n",
            "what is the difference between feminist and gunman nothing but The gunman only has one trigger! -Clorox Bleach\n",
            "what is the difference between feminist and grease-gun nothing but The grease-gun only has one trigger! -Clorox Bleach\n",
            "what is the difference between feminist and accelerator nothing but The accelerator only has one trigger! -Clorox Bleach\n",
            "original joke\n",
            "what is the difference between rooster and hooker nothing but a rooster says cocka-doodle-doo a hooker says any cock will do\n",
            "modified joke\n",
            "what is the difference between rooster and streetwalker nothing but a rooster says cocka-doodle-doo a streetwalker says any cock will do\n",
            "original joke\n",
            "what is the difference between dick and joke nothing but You can't take a joke\n",
            "modified joke\n",
            "what is the difference between dick and jest nothing but You can't take a jest\n",
            "what is the difference between dick and antic nothing but You can't take a antic\n",
            "original joke\n",
            "what is the difference between fox and dog nothing but About 6 drinks.\n",
            "modified joke\n",
            "what is the difference between fox and frump nothing but About 6 drinks.\n",
            "what is the difference between fox and cad nothing but About 6 drinks.\n",
            "what is the difference between fox and frank nothing but About 6 drinks.\n",
            "what is the difference between fox and pawl nothing but About 6 drinks.\n",
            "what is the difference between fox and andiron nothing but About 6 drinks.\n",
            "what is the difference between fox and chase nothing but About 6 drinks.\n",
            "original joke\n",
            "what is the difference between rooster and blonde nothing but A rooster says cock-a-doodle-do and a blonde says any-cockle-do!\n",
            "modified joke\n",
            "what is the difference between rooster and blond nothing but A rooster says cock-a-doodle-do and a blond says any-cockle-do!\n",
            "what is the difference between rooster and blond nothing but A rooster says cock-a-doodle-do and a blond says any-cockle-do!\n",
            "what is the difference between rooster and blond nothing but A rooster says cock-a-doodle-do and a blond says any-cockle-do!\n",
            "original joke\n",
            "what is the difference between hooker and lawyer nothing but A hooker stops screwing you when you're dead!\n",
            "modified joke\n"
          ],
          "name": "stdout"
        }
      ]
    },
    {
      "cell_type": "code",
      "metadata": {
        "id": "jIeW4eRc5GHj",
        "colab_type": "code",
        "outputId": "11ec3736-4718-4510-af8a-8e889b09863a",
        "colab": {
          "base_uri": "https://localhost:8080/",
          "height": 118
        }
      },
      "source": [
        "\n",
        "import re\n",
        "import nltk\n",
        "nltk.download('averaged_perceptron_tagger')\n",
        "from nltk.util import ngrams\n",
        "nltk.download('punkt')\n"
      ],
      "execution_count": 0,
      "outputs": [
        {
          "output_type": "stream",
          "text": [
            "[nltk_data] Downloading package averaged_perceptron_tagger to\n",
            "[nltk_data]     /root/nltk_data...\n",
            "[nltk_data]   Unzipping taggers/averaged_perceptron_tagger.zip.\n",
            "[nltk_data] Downloading package punkt to /root/nltk_data...\n",
            "[nltk_data]   Unzipping tokenizers/punkt.zip.\n"
          ],
          "name": "stdout"
        },
        {
          "output_type": "execute_result",
          "data": {
            "text/plain": [
              "True"
            ]
          },
          "metadata": {
            "tags": []
          },
          "execution_count": 107
        }
      ]
    },
    {
      "cell_type": "code",
      "metadata": {
        "id": "iIxu1G-Q6XN9",
        "colab_type": "code",
        "colab": {}
      },
      "source": [
        "list_jokes = test_data['Joke']"
      ],
      "execution_count": 0,
      "outputs": []
    },
    {
      "cell_type": "code",
      "metadata": {
        "id": "0YaqNvci7DPE",
        "colab_type": "code",
        "colab": {}
      },
      "source": [
        "str_jokes = ''.join(map(str, list_jokes))"
      ],
      "execution_count": 0,
      "outputs": []
    },
    {
      "cell_type": "code",
      "metadata": {
        "id": "SHKpRRaf7Gay",
        "colab_type": "code",
        "colab": {}
      },
      "source": [
        "str_jokes = str_jokes.lower()\n",
        "str_jokes = re.sub(r'[^a-zA-Z0-9\\s]', ' ', str_jokes)"
      ],
      "execution_count": 0,
      "outputs": []
    },
    {
      "cell_type": "code",
      "metadata": {
        "id": "5eSeiBgG7Hiw",
        "colab_type": "code",
        "colab": {}
      },
      "source": [
        "tokens = [token for token in str_jokes.split(\" \") if token != \"\"]\n"
      ],
      "execution_count": 0,
      "outputs": []
    },
    {
      "cell_type": "code",
      "metadata": {
        "id": "z7EgiOJO7LQO",
        "colab_type": "code",
        "colab": {}
      },
      "source": [
        "output = list(ngrams(tokens, 2))\n"
      ],
      "execution_count": 0,
      "outputs": []
    },
    {
      "cell_type": "code",
      "metadata": {
        "id": "r_Jz4i86DdUi",
        "colab_type": "code",
        "colab": {}
      },
      "source": [
        "adjectives = ['JJ','NN','RB','JJS']\n"
      ],
      "execution_count": 0,
      "outputs": []
    },
    {
      "cell_type": "code",
      "metadata": {
        "id": "n4D4y-bF7N_w",
        "colab_type": "code",
        "outputId": "6280398b-926f-4eed-f89a-d2efe5409f8b",
        "colab": {
          "base_uri": "https://localhost:8080/",
          "height": 1000
        }
      },
      "source": [
        "#this doesnot work for longer x and y \n",
        "for i, j in temp_two.iterrows():\n",
        "    jokes_set = set()\n",
        "    list_x = set()\n",
        "    list_y = set()\n",
        "    x = j.X\n",
        "    y = j.Y\n",
        "    z = j.Z\n",
        "    x = x.strip()\n",
        "    y = y.strip()\n",
        "    z = z.strip()\n",
        "    print(\"original joke\")\n",
        "    print(\"What is the difference between \"  + x + \" and \" + y + \" nothing but \" + z)\n",
        "    for items in output:\n",
        "      if items[1] == x:\n",
        "        list_x.add(items[0])\n",
        "      if items[1] == y:\n",
        "        list_y.add(items[0])\n",
        "    jokes = list(set(list_x) & set(list_y))\n",
        "    print(\"modified jokes\")\n",
        "    for a in jokes:\n",
        "      if len(a) > 1:\n",
        "        text = nltk.word_tokenize(a)\n",
        "        if nltk.pos_tag(text)[0][1] in adjectives:\n",
        "          joke = \"What is the difference between \"  + x + \" and \" + y + \" nothing but \" + a\n",
        "          jokes_set.add(joke)\n",
        "    if len(jokes_set) == 0:\n",
        "      print(\"--------------no modification found-----------------\")    \n",
        "    for joke in jokes_set:\n",
        "      print(joke)\n",
        "\n",
        "\n",
        "        \n",
        "      \n",
        " "
      ],
      "execution_count": 0,
      "outputs": [
        {
          "output_type": "stream",
          "text": [
            "original joke\n",
            "What is the difference between your job and prostitute nothing but Your job still sucks  And it sucks hard\n",
            "modified jokes\n",
            "--------------no modification found-----------------\n",
            "original joke\n",
            "What is the difference between very large building and pigeon nothing but just one 's'  One is skyscraper and the other one is skycraper.\n",
            "modified jokes\n",
            "--------------no modification found-----------------\n",
            "original joke\n",
            "What is the difference between Blues musician and Jazz musician nothing but A blues musician plays 3 chords to audiences of thousands.  A jazz musician plays thousands of chords to audiences of 3\n",
            "modified jokes\n",
            "--------------no modification found-----------------\n",
            "original joke\n",
            "What is the difference between angler and dunce nothing but One baits his hooks while the other hates his books.\n",
            "modified jokes\n",
            "--------------no modification found-----------------\n",
            "original joke\n",
            "What is the difference between hunter and fisherman nothing but A hunter lies in wait. A fisherman waits and lies.\n",
            "modified jokes\n",
            "--------------no modification found-----------------\n",
            "original joke\n",
            "What is the difference between homeless and pizza nothing but A pizza can feed a family of four.\n",
            "modified jokes\n",
            "What is the difference between homeless and pizza nothing but think\n",
            "What is the difference between homeless and pizza nothing but old\n",
            "What is the difference between homeless and pizza nothing but other\n",
            "What is the difference between homeless and pizza nothing but here\n",
            "What is the difference between homeless and pizza nothing but up\n",
            "What is the difference between homeless and pizza nothing but park\n",
            "What is the difference between homeless and pizza nothing but call\n",
            "original joke\n",
            "What is the difference between feminist and gun nothing but The gun only has one trigger!   -Clorox Bleach\n",
            "modified jokes\n",
            "What is the difference between feminist and gun nothing but anti\n",
            "What is the difference between feminist and gun nothing but local\n",
            "What is the difference between feminist and gun nothing but second\n",
            "original joke\n",
            "What is the difference between rooster and hooker nothing but a rooster says cocka-doodle-doo a hooker says any cock will do\n",
            "modified jokes\n",
            "--------------no modification found-----------------\n",
            "original joke\n",
            "What is the difference between dick and joke nothing but You can't take a joke\n",
            "modified jokes\n",
            "What is the difference between dick and joke nothing but mom\n",
            "What is the difference between dick and joke nothing but man\n",
            "What is the difference between dick and joke nothing but great\n",
            "What is the difference between dick and joke nothing but complete\n",
            "What is the difference between dick and joke nothing but mean\n",
            "What is the difference between dick and joke nothing but fuck\n",
            "What is the difference between dick and joke nothing but fitness\n",
            "What is the difference between dick and joke nothing but sad\n",
            "What is the difference between dick and joke nothing but little\n",
            "What is the difference between dick and joke nothing but own\n",
            "What is the difference between dick and joke nothing but today\n",
            "What is the difference between dick and joke nothing but perfect\n",
            "What is the difference between dick and joke nothing but small\n",
            "What is the difference between dick and joke nothing but double\n",
            "What is the difference between dick and joke nothing but real\n",
            "What is the difference between dick and joke nothing but long\n",
            "What is the difference between dick and joke nothing but new\n",
            "What is the difference between dick and joke nothing but whole\n",
            "What is the difference between dick and joke nothing but nsfw\n",
            "What is the difference between dick and joke nothing but asian\n",
            "What is the difference between dick and joke nothing but nice\n",
            "What is the difference between dick and joke nothing but same\n",
            "What is the difference between dick and joke nothing but car\n",
            "What is the difference between dick and joke nothing but good\n",
            "What is the difference between dick and joke nothing but horse\n",
            "What is the difference between dick and joke nothing but child\n",
            "What is the difference between dick and joke nothing but other\n",
            "What is the difference between dick and joke nothing but actual\n",
            "What is the difference between dick and joke nothing but up\n",
            "What is the difference between dick and joke nothing but funny\n",
            "What is the difference between dick and joke nothing but clever\n",
            "What is the difference between dick and joke nothing but old\n",
            "What is the difference between dick and joke nothing but trump\n",
            "What is the difference between dick and joke nothing but tiny\n",
            "What is the difference between dick and joke nothing but big\n",
            "What is the difference between dick and joke nothing but side\n",
            "What is the difference between dick and joke nothing but poop\n",
            "What is the difference between dick and joke nothing but sick\n",
            "What is the difference between dick and joke nothing but tell\n",
            "What is the difference between dick and joke nothing but last\n",
            "original joke\n",
            "What is the difference between dirty bus stop and lobster with breast implants nothing but One's a crusty bus station  and the other's a busty crustacean!\"\n",
            "modified jokes\n",
            "--------------no modification found-----------------\n",
            "original joke\n",
            "What is the difference between fox and dog nothing but About 6 drinks.\n",
            "modified jokes\n",
            "What is the difference between fox and dog nothing but huge\n",
            "What is the difference between fox and dog nothing but stuffed\n",
            "What is the difference between fox and dog nothing but racist\n",
            "What is the difference between fox and dog nothing but home\n",
            "What is the difference between fox and dog nothing but real\n",
            "What is the difference between fox and dog nothing but blond\n",
            "What is the difference between fox and dog nothing but so\n",
            "What is the difference between fox and dog nothing but understand\n",
            "What is the difference between fox and dog nothing but wild\n",
            "What is the difference between fox and dog nothing but watch\n",
            "original joke\n",
            "What is the difference between aerobics instructor and well-mannered professional torturer nothing but The torturer would apologize first\n",
            "modified jokes\n",
            "--------------no modification found-----------------\n",
            "original joke\n",
            "What is the difference between aerobics instructor and dentist nothing but A dentist lets you sit down while he hurts you.\n",
            "modified jokes\n",
            "--------------no modification found-----------------\n",
            "original joke\n",
            "What is the difference between intelligent Spice Girl and UFO. nothing but Don't know  I haven't seen either\n",
            "modified jokes\n",
            "--------------no modification found-----------------\n",
            "original joke\n",
            "What is the difference between rooster and blonde nothing but A rooster says cock-a-doodle-do and a blonde says any-cockle-do!\n",
            "modified jokes\n",
            "--------------no modification found-----------------\n",
            "original joke\n",
            "What is the difference between hooker and lawyer nothing but A hooker stops screwing you when you're dead!\n",
            "modified jokes\n",
            "What is the difference between hooker and lawyer nothing but old\n",
            "What is the difference between hooker and lawyer nothing but dead\n",
            "What is the difference between hooker and lawyer nothing but good\n",
            "What is the difference between hooker and lawyer nothing but other\n"
          ],
          "name": "stdout"
        }
      ]
    },
    {
      "cell_type": "code",
      "metadata": {
        "id": "P6r665su-VnP",
        "colab_type": "code",
        "outputId": "e53ffbaa-1442-47a8-874f-53e68080d17c",
        "colab": {
          "base_uri": "https://localhost:8080/",
          "height": 672
        }
      },
      "source": [
        "#this does  work for longer x and y \n",
        "for i, j in temp_two.iterrows():\n",
        "    jokes_set = set()\n",
        "    nouns_set_x = set()\n",
        "    nouns_set_y = set()\n",
        "    x_adjectives = set()\n",
        "    y_adjectives = set()\n",
        "    list_x = set()\n",
        "    list_y = set()\n",
        "    x = j.X\n",
        "    y = j.Y\n",
        "    z = j.Z\n",
        "    x = x.strip()\n",
        "    y = y.strip()\n",
        "    z = z.strip()\n",
        "    if len(x.split()) > 1 :\n",
        "      all_tags = nltk.pos_tag(nltk.word_tokenize(x))\n",
        "      for a in all_tags:\n",
        "        if a[1] == \"NN\" or a[1] == \"NNS\" :\n",
        "          nouns_set_x.add(a[0])\n",
        "\n",
        "    if len(y.split()) > 1 :\n",
        "      all_tags = nltk.pos_tag(nltk.word_tokenize(y))\n",
        "      for a in all_tags:\n",
        "        if a[1] == \"NN\" or a[1] == \"NNS\" :\n",
        "          nouns_set_y.add(a[0])\n",
        "\n",
        "    for items in output:\n",
        "      if items[1] in nouns_set_x:\n",
        "        x_adjectives.add(items[0])\n",
        "      if items[1] in nouns_set_y:\n",
        "        y_adjectives.add(items[0])\n",
        "\n",
        "    jokes = list(set(x_adjectives) & set(y_adjectives))\n",
        "    print(\"modified jokes\")\n",
        "    for a in jokes:\n",
        "      if len(a) > 1:\n",
        "        text = nltk.word_tokenize(a)\n",
        "        if nltk.pos_tag(text)[0][1] in adjectives:\n",
        "          joke = \"What is the difference between \"  + x + \" and \" + y + \" nothing but \" + a\n",
        "          jokes_set.add(joke)\n",
        "    if len(jokes_set) == 0:\n",
        "      print(\"--------------no modification found-----------------\")    \n",
        "    for joke in jokes_set:\n",
        "      print(joke) \n",
        "\n",
        "    \n",
        "\n",
        "\n",
        "        \n",
        "      \n"
      ],
      "execution_count": 0,
      "outputs": [
        {
          "output_type": "stream",
          "text": [
            "modified jokes\n",
            "--------------no modification found-----------------\n",
            "modified jokes\n",
            "--------------no modification found-----------------\n",
            "modified jokes\n",
            "--------------no modification found-----------------\n",
            "modified jokes\n",
            "--------------no modification found-----------------\n",
            "modified jokes\n",
            "--------------no modification found-----------------\n",
            "modified jokes\n",
            "--------------no modification found-----------------\n",
            "modified jokes\n",
            "--------------no modification found-----------------\n",
            "modified jokes\n",
            "--------------no modification found-----------------\n",
            "modified jokes\n",
            "--------------no modification found-----------------\n",
            "modified jokes\n",
            "What is the difference between dirty bus stop and lobster with breast implants nothing but company\n",
            "What is the difference between dirty bus stop and lobster with breast implants nothing but start\n",
            "What is the difference between dirty bus stop and lobster with breast implants nothing but re\n",
            "What is the difference between dirty bus stop and lobster with breast implants nothing but not\n",
            "What is the difference between dirty bus stop and lobster with breast implants nothing but new\n",
            "What is the difference between dirty bus stop and lobster with breast implants nothing but woman\n",
            "What is the difference between dirty bus stop and lobster with breast implants nothing but last\n",
            "What is the difference between dirty bus stop and lobster with breast implants nothing but right\n",
            "modified jokes\n",
            "--------------no modification found-----------------\n",
            "modified jokes\n",
            "--------------no modification found-----------------\n",
            "modified jokes\n",
            "--------------no modification found-----------------\n",
            "modified jokes\n",
            "--------------no modification found-----------------\n",
            "modified jokes\n",
            "--------------no modification found-----------------\n",
            "modified jokes\n",
            "--------------no modification found-----------------\n"
          ],
          "name": "stdout"
        }
      ]
    },
    {
      "cell_type": "code",
      "metadata": {
        "id": "4V3-T6cGJMhs",
        "colab_type": "code",
        "colab": {}
      },
      "source": [
        ""
      ],
      "execution_count": 0,
      "outputs": []
    }
  ]
}